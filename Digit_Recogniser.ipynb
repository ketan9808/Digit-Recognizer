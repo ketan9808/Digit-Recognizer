{
 "cells": [
  {
   "cell_type": "code",
   "execution_count": 1,
   "metadata": {},
   "outputs": [],
   "source": [
    "import pandas as pd\n",
    "import cv2\n",
    "from sklearn.model_selection import train_test_split"
   ]
  },
  {
   "cell_type": "code",
   "execution_count": 2,
   "metadata": {},
   "outputs": [],
   "source": [
    "dataset_path = '/home/ketan/0.Machine_learning/0.Datasets/'\n",
    "train_data = pd.read_csv(dataset_path+\"Digit_Recognizer_train.csv\")\n",
    "test_data = pd.read_csv(dataset_path+\"Digit_Recognizer_test.csv\")"
   ]
  },
  {
   "cell_type": "code",
   "execution_count": 3,
   "metadata": {},
   "outputs": [
    {
     "name": "stdout",
     "output_type": "stream",
     "text": [
      "(42000, 785) (28000, 784)\n"
     ]
    }
   ],
   "source": [
    "print(train_data.shape, test_data.shape)"
   ]
  },
  {
   "cell_type": "code",
   "execution_count": 4,
   "metadata": {},
   "outputs": [
    {
     "data": {
      "text/plain": [
       "Index(['label', 'pixel0', 'pixel1', 'pixel2', 'pixel3', 'pixel4', 'pixel5',\n",
       "       'pixel6', 'pixel7', 'pixel8',\n",
       "       ...\n",
       "       'pixel774', 'pixel775', 'pixel776', 'pixel777', 'pixel778', 'pixel779',\n",
       "       'pixel780', 'pixel781', 'pixel782', 'pixel783'],\n",
       "      dtype='object', length=785)"
      ]
     },
     "execution_count": 4,
     "metadata": {},
     "output_type": "execute_result"
    }
   ],
   "source": [
    "train_data.columns"
   ]
  },
  {
   "cell_type": "code",
   "execution_count": 5,
   "metadata": {},
   "outputs": [
    {
     "data": {
      "text/plain": [
       "array([1, 0, 4, 7, 3, 5, 8, 9, 2, 6])"
      ]
     },
     "execution_count": 5,
     "metadata": {},
     "output_type": "execute_result"
    }
   ],
   "source": [
    "train_data['label'].unique()"
   ]
  },
  {
   "cell_type": "code",
   "execution_count": 6,
   "metadata": {
    "scrolled": true
   },
   "outputs": [
    {
     "data": {
      "text/plain": [
       "array([  0, 255,  45,  25, 111, 222,  51, 150, 219, 240,  24, 254, 253,\n",
       "        21,  13, 198, 137,  90, 249, 105, 157, 116,  76, 185, 138, 128,\n",
       "        63, 117,  87,   5,  14,  18,   8,  22,  62,  67,  57,  81,  68,\n",
       "       158,  31, 247, 193, 119, 252,  37, 223, 139,  11, 100,  94, 106,\n",
       "         9, 190, 202,   4,  60, 218,  92,  28, 236, 168,  35, 169, 125,\n",
       "       191, 171, 206,  32, 107, 194,  10, 122, 203, 154,   1, 245,  82,\n",
       "       197, 130, 159,  77,  55,   7, 136,  43, 141, 134,  73, 248,  30,\n",
       "        64,  91,   6, 126,  36, 101, 161, 109, 123,  85,  80, 221, 205,\n",
       "       233,  96, 251,  42, 250, 210,  48, 181,  95, 200, 211,  19, 152,\n",
       "        58, 226,  26, 166,  70, 121, 201,  56,  75,  72,   3,  41, 227,\n",
       "       102, 113,  52, 118, 224, 231,  29,  86,  17, 163,  15, 244, 178,\n",
       "        20, 133,  27, 220, 246, 142, 208, 184, 173, 207, 155, 215,  34,\n",
       "        16, 149,  69, 129,  59,  46,   2, 230, 235,  99, 124, 151,  38,\n",
       "       174, 143, 132,  79, 238,  44, 147,  89,  78, 108,  12, 120, 176,\n",
       "        50,  49, 153,  40, 186,  47, 177, 127, 187,  93,  84, 209, 156,\n",
       "       242, 145, 217, 180,  39, 228, 214, 110, 212, 234, 112, 216, 135,\n",
       "        23, 213, 114, 170, 165,  61, 140,  65, 160, 225, 243])"
      ]
     },
     "execution_count": 6,
     "metadata": {},
     "output_type": "execute_result"
    }
   ],
   "source": [
    "train_data.pixel200.unique()"
   ]
  },
  {
   "cell_type": "code",
   "execution_count": 7,
   "metadata": {},
   "outputs": [],
   "source": [
    "features = train_data.drop(\"label\", axis = 1)\n",
    "labels = train_data[\"label\"]"
   ]
  },
  {
   "cell_type": "markdown",
   "metadata": {},
   "source": [
    "# nornalizing the data\n",
    "the problem is a classification problem so we need to convert this data into something that can be feed directly to a neural network so we will normalize the data"
   ]
  },
  {
   "cell_type": "code",
   "execution_count": 8,
   "metadata": {},
   "outputs": [],
   "source": [
    "def normal(dataset):\n",
    "    dataset /= 255.0\n",
    "    return dataset"
   ]
  },
  {
   "cell_type": "code",
   "execution_count": 9,
   "metadata": {},
   "outputs": [],
   "source": [
    "features = normal(features)"
   ]
  },
  {
   "cell_type": "markdown",
   "metadata": {},
   "source": [
    "We also need to convert the label dataset into something that a model can predict ie vectorising the label column"
   ]
  },
  {
   "cell_type": "code",
   "execution_count": 21,
   "metadata": {},
   "outputs": [
    {
     "data": {
      "text/html": [
       "<div>\n",
       "<style scoped>\n",
       "    .dataframe tbody tr th:only-of-type {\n",
       "        vertical-align: middle;\n",
       "    }\n",
       "\n",
       "    .dataframe tbody tr th {\n",
       "        vertical-align: top;\n",
       "    }\n",
       "\n",
       "    .dataframe thead th {\n",
       "        text-align: right;\n",
       "    }\n",
       "</style>\n",
       "<table border=\"1\" class=\"dataframe\">\n",
       "  <thead>\n",
       "    <tr style=\"text-align: right;\">\n",
       "      <th></th>\n",
       "      <th>0</th>\n",
       "      <th>1</th>\n",
       "      <th>2</th>\n",
       "      <th>3</th>\n",
       "      <th>4</th>\n",
       "      <th>5</th>\n",
       "      <th>6</th>\n",
       "      <th>7</th>\n",
       "      <th>8</th>\n",
       "      <th>9</th>\n",
       "    </tr>\n",
       "  </thead>\n",
       "  <tbody>\n",
       "    <tr>\n",
       "      <th>0</th>\n",
       "      <td>0</td>\n",
       "      <td>1</td>\n",
       "      <td>0</td>\n",
       "      <td>0</td>\n",
       "      <td>0</td>\n",
       "      <td>0</td>\n",
       "      <td>0</td>\n",
       "      <td>0</td>\n",
       "      <td>0</td>\n",
       "      <td>0</td>\n",
       "    </tr>\n",
       "    <tr>\n",
       "      <th>1</th>\n",
       "      <td>1</td>\n",
       "      <td>0</td>\n",
       "      <td>0</td>\n",
       "      <td>0</td>\n",
       "      <td>0</td>\n",
       "      <td>0</td>\n",
       "      <td>0</td>\n",
       "      <td>0</td>\n",
       "      <td>0</td>\n",
       "      <td>0</td>\n",
       "    </tr>\n",
       "    <tr>\n",
       "      <th>2</th>\n",
       "      <td>0</td>\n",
       "      <td>1</td>\n",
       "      <td>0</td>\n",
       "      <td>0</td>\n",
       "      <td>0</td>\n",
       "      <td>0</td>\n",
       "      <td>0</td>\n",
       "      <td>0</td>\n",
       "      <td>0</td>\n",
       "      <td>0</td>\n",
       "    </tr>\n",
       "    <tr>\n",
       "      <th>3</th>\n",
       "      <td>0</td>\n",
       "      <td>0</td>\n",
       "      <td>0</td>\n",
       "      <td>0</td>\n",
       "      <td>1</td>\n",
       "      <td>0</td>\n",
       "      <td>0</td>\n",
       "      <td>0</td>\n",
       "      <td>0</td>\n",
       "      <td>0</td>\n",
       "    </tr>\n",
       "    <tr>\n",
       "      <th>4</th>\n",
       "      <td>1</td>\n",
       "      <td>0</td>\n",
       "      <td>0</td>\n",
       "      <td>0</td>\n",
       "      <td>0</td>\n",
       "      <td>0</td>\n",
       "      <td>0</td>\n",
       "      <td>0</td>\n",
       "      <td>0</td>\n",
       "      <td>0</td>\n",
       "    </tr>\n",
       "  </tbody>\n",
       "</table>\n",
       "</div>"
      ],
      "text/plain": [
       "   0  1  2  3  4  5  6  7  8  9\n",
       "0  0  1  0  0  0  0  0  0  0  0\n",
       "1  1  0  0  0  0  0  0  0  0  0\n",
       "2  0  1  0  0  0  0  0  0  0  0\n",
       "3  0  0  0  0  1  0  0  0  0  0\n",
       "4  1  0  0  0  0  0  0  0  0  0"
      ]
     },
     "execution_count": 21,
     "metadata": {},
     "output_type": "execute_result"
    }
   ],
   "source": [
    "labels = pd.get_dummies(labels)\n",
    "labels.head()"
   ]
  },
  {
   "cell_type": "code",
   "execution_count": 22,
   "metadata": {},
   "outputs": [
    {
     "name": "stdout",
     "output_type": "stream",
     "text": [
      "<class 'pandas.core.frame.DataFrame'>\n"
     ]
    }
   ],
   "source": [
    "x_train, x_test, y_train, y_test = train_test_split(features, labels, random_state = 10, test_size = 0.2, shuffle = True)\n",
    "print(type(x_train))"
   ]
  },
  {
   "cell_type": "markdown",
   "metadata": {},
   "source": [
    "# neural network"
   ]
  },
  {
   "cell_type": "code",
   "execution_count": 11,
   "metadata": {
    "collapsed": true
   },
   "outputs": [
    {
     "name": "stderr",
     "output_type": "stream",
     "text": [
      "Using TensorFlow backend.\n",
      "/home/ketan/.local/lib/python3.6/site-packages/tensorflow/python/framework/dtypes.py:516: FutureWarning: Passing (type, 1) or '1type' as a synonym of type is deprecated; in a future version of numpy, it will be understood as (type, (1,)) / '(1,)type'.\n",
      "  _np_qint8 = np.dtype([(\"qint8\", np.int8, 1)])\n",
      "/home/ketan/.local/lib/python3.6/site-packages/tensorflow/python/framework/dtypes.py:517: FutureWarning: Passing (type, 1) or '1type' as a synonym of type is deprecated; in a future version of numpy, it will be understood as (type, (1,)) / '(1,)type'.\n",
      "  _np_quint8 = np.dtype([(\"quint8\", np.uint8, 1)])\n",
      "/home/ketan/.local/lib/python3.6/site-packages/tensorflow/python/framework/dtypes.py:518: FutureWarning: Passing (type, 1) or '1type' as a synonym of type is deprecated; in a future version of numpy, it will be understood as (type, (1,)) / '(1,)type'.\n",
      "  _np_qint16 = np.dtype([(\"qint16\", np.int16, 1)])\n",
      "/home/ketan/.local/lib/python3.6/site-packages/tensorflow/python/framework/dtypes.py:519: FutureWarning: Passing (type, 1) or '1type' as a synonym of type is deprecated; in a future version of numpy, it will be understood as (type, (1,)) / '(1,)type'.\n",
      "  _np_quint16 = np.dtype([(\"quint16\", np.uint16, 1)])\n",
      "/home/ketan/.local/lib/python3.6/site-packages/tensorflow/python/framework/dtypes.py:520: FutureWarning: Passing (type, 1) or '1type' as a synonym of type is deprecated; in a future version of numpy, it will be understood as (type, (1,)) / '(1,)type'.\n",
      "  _np_qint32 = np.dtype([(\"qint32\", np.int32, 1)])\n",
      "/home/ketan/.local/lib/python3.6/site-packages/tensorflow/python/framework/dtypes.py:525: FutureWarning: Passing (type, 1) or '1type' as a synonym of type is deprecated; in a future version of numpy, it will be understood as (type, (1,)) / '(1,)type'.\n",
      "  np_resource = np.dtype([(\"resource\", np.ubyte, 1)])\n",
      "/home/ketan/.local/lib/python3.6/site-packages/tensorboard/compat/tensorflow_stub/dtypes.py:541: FutureWarning: Passing (type, 1) or '1type' as a synonym of type is deprecated; in a future version of numpy, it will be understood as (type, (1,)) / '(1,)type'.\n",
      "  _np_qint8 = np.dtype([(\"qint8\", np.int8, 1)])\n",
      "/home/ketan/.local/lib/python3.6/site-packages/tensorboard/compat/tensorflow_stub/dtypes.py:542: FutureWarning: Passing (type, 1) or '1type' as a synonym of type is deprecated; in a future version of numpy, it will be understood as (type, (1,)) / '(1,)type'.\n",
      "  _np_quint8 = np.dtype([(\"quint8\", np.uint8, 1)])\n",
      "/home/ketan/.local/lib/python3.6/site-packages/tensorboard/compat/tensorflow_stub/dtypes.py:543: FutureWarning: Passing (type, 1) or '1type' as a synonym of type is deprecated; in a future version of numpy, it will be understood as (type, (1,)) / '(1,)type'.\n",
      "  _np_qint16 = np.dtype([(\"qint16\", np.int16, 1)])\n",
      "/home/ketan/.local/lib/python3.6/site-packages/tensorboard/compat/tensorflow_stub/dtypes.py:544: FutureWarning: Passing (type, 1) or '1type' as a synonym of type is deprecated; in a future version of numpy, it will be understood as (type, (1,)) / '(1,)type'.\n",
      "  _np_quint16 = np.dtype([(\"quint16\", np.uint16, 1)])\n",
      "/home/ketan/.local/lib/python3.6/site-packages/tensorboard/compat/tensorflow_stub/dtypes.py:545: FutureWarning: Passing (type, 1) or '1type' as a synonym of type is deprecated; in a future version of numpy, it will be understood as (type, (1,)) / '(1,)type'.\n",
      "  _np_qint32 = np.dtype([(\"qint32\", np.int32, 1)])\n",
      "/home/ketan/.local/lib/python3.6/site-packages/tensorboard/compat/tensorflow_stub/dtypes.py:550: FutureWarning: Passing (type, 1) or '1type' as a synonym of type is deprecated; in a future version of numpy, it will be understood as (type, (1,)) / '(1,)type'.\n",
      "  np_resource = np.dtype([(\"resource\", np.ubyte, 1)])\n"
     ]
    }
   ],
   "source": [
    "from keras.models import Sequential\n",
    "from keras.layers import Dense\n",
    "import tensorflow as tf"
   ]
  },
  {
   "cell_type": "code",
   "execution_count": 23,
   "metadata": {},
   "outputs": [],
   "source": [
    "model = Sequential([\n",
    "    Dense(16, activation = 'relu', input_shape = (784,)),\n",
    "    Dense(16, activation = 'relu'),\n",
    "    Dense(10, activation = 'softmax')\n",
    "])"
   ]
  },
  {
   "cell_type": "code",
   "execution_count": 24,
   "metadata": {},
   "outputs": [],
   "source": [
    "model.compile(\n",
    "    optimizer = 'adam',\n",
    "    loss = 'mean_squared_error',\n",
    "    metrics = ['accuracy']\n",
    ")"
   ]
  },
  {
   "cell_type": "code",
   "execution_count": 29,
   "metadata": {},
   "outputs": [
    {
     "name": "stdout",
     "output_type": "stream",
     "text": [
      "Epoch 1/100\n",
      "33600/33600 [==============================] - 7s 207us/step - loss: 0.0058 - acc: 0.9639\n",
      "Epoch 2/100\n",
      "33600/33600 [==============================] - 7s 209us/step - loss: 0.0055 - acc: 0.9660\n",
      "Epoch 3/100\n",
      "33600/33600 [==============================] - 7s 210us/step - loss: 0.0054 - acc: 0.9674\n",
      "Epoch 4/100\n",
      "33600/33600 [==============================] - 7s 210us/step - loss: 0.0052 - acc: 0.9679\n",
      "Epoch 5/100\n",
      "33600/33600 [==============================] - 7s 199us/step - loss: 0.0050 - acc: 0.9702\n",
      "Epoch 6/100\n",
      "33600/33600 [==============================] - 7s 203us/step - loss: 0.0049 - acc: 0.9705\n",
      "Epoch 7/100\n",
      "33600/33600 [==============================] - 7s 206us/step - loss: 0.0047 - acc: 0.9719\n",
      "Epoch 8/100\n",
      "33600/33600 [==============================] - 7s 200us/step - loss: 0.0047 - acc: 0.9715\n",
      "Epoch 9/100\n",
      "33600/33600 [==============================] - 7s 198us/step - loss: 0.0045 - acc: 0.9727\n",
      "Epoch 10/100\n",
      "33600/33600 [==============================] - 7s 198us/step - loss: 0.0044 - acc: 0.9739\n",
      "Epoch 11/100\n",
      "33600/33600 [==============================] - 7s 201us/step - loss: 0.0043 - acc: 0.9741\n",
      "Epoch 12/100\n",
      "33600/33600 [==============================] - 7s 203us/step - loss: 0.0042 - acc: 0.9755\n",
      "Epoch 13/100\n",
      "33600/33600 [==============================] - 7s 200us/step - loss: 0.0042 - acc: 0.9750\n",
      "Epoch 14/100\n",
      "33600/33600 [==============================] - 7s 210us/step - loss: 0.0041 - acc: 0.9761\n",
      "Epoch 15/100\n",
      "33600/33600 [==============================] - 7s 210us/step - loss: 0.0039 - acc: 0.9768\n",
      "Epoch 16/100\n",
      "33600/33600 [==============================] - 7s 209us/step - loss: 0.0039 - acc: 0.9773\n",
      "Epoch 17/100\n",
      "33600/33600 [==============================] - 7s 207us/step - loss: 0.0038 - acc: 0.9776\n",
      "Epoch 18/100\n",
      "33600/33600 [==============================] - 7s 210us/step - loss: 0.0038 - acc: 0.9778\n",
      "Epoch 19/100\n",
      "33600/33600 [==============================] - 7s 209us/step - loss: 0.0037 - acc: 0.9785\n",
      "Epoch 20/100\n",
      "33600/33600 [==============================] - 7s 213us/step - loss: 0.0037 - acc: 0.9783\n",
      "Epoch 21/100\n",
      "33600/33600 [==============================] - 7s 211us/step - loss: 0.0035 - acc: 0.9797\n",
      "Epoch 22/100\n",
      "33600/33600 [==============================] - 7s 210us/step - loss: 0.0035 - acc: 0.9795\n",
      "Epoch 23/100\n",
      "33600/33600 [==============================] - 7s 211us/step - loss: 0.0035 - acc: 0.9798\n",
      "Epoch 24/100\n",
      "33600/33600 [==============================] - 7s 210us/step - loss: 0.0034 - acc: 0.9807\n",
      "Epoch 25/100\n",
      "33600/33600 [==============================] - 7s 214us/step - loss: 0.0035 - acc: 0.9800\n",
      "Epoch 26/100\n",
      "33600/33600 [==============================] - 7s 212us/step - loss: 0.0032 - acc: 0.9816\n",
      "Epoch 27/100\n",
      "33600/33600 [==============================] - 7s 213us/step - loss: 0.0033 - acc: 0.9808\n",
      "Epoch 28/100\n",
      "33600/33600 [==============================] - 7s 210us/step - loss: 0.0034 - acc: 0.9804\n",
      "Epoch 29/100\n",
      "33600/33600 [==============================] - 7s 212us/step - loss: 0.0032 - acc: 0.9815\n",
      "Epoch 30/100\n",
      "33600/33600 [==============================] - 7s 210us/step - loss: 0.0031 - acc: 0.9819\n",
      "Epoch 31/100\n",
      "33600/33600 [==============================] - 7s 213us/step - loss: 0.0032 - acc: 0.9819\n",
      "Epoch 32/100\n",
      "33600/33600 [==============================] - 7s 214us/step - loss: 0.0032 - acc: 0.9818\n",
      "Epoch 33/100\n",
      "33600/33600 [==============================] - 7s 213us/step - loss: 0.0031 - acc: 0.9824\n",
      "Epoch 34/100\n",
      "33600/33600 [==============================] - 7s 213us/step - loss: 0.0030 - acc: 0.9826\n",
      "Epoch 35/100\n",
      "33600/33600 [==============================] - 7s 209us/step - loss: 0.0029 - acc: 0.9831\n",
      "Epoch 36/100\n",
      "33600/33600 [==============================] - 7s 207us/step - loss: 0.0031 - acc: 0.9826\n",
      "Epoch 37/100\n",
      "33600/33600 [==============================] - 7s 213us/step - loss: 0.0029 - acc: 0.9836\n",
      "Epoch 38/100\n",
      "33600/33600 [==============================] - 7s 207us/step - loss: 0.0030 - acc: 0.9832\n",
      "Epoch 39/100\n",
      "33600/33600 [==============================] - 7s 213us/step - loss: 0.0030 - acc: 0.9827\n",
      "Epoch 40/100\n",
      "33600/33600 [==============================] - 7s 210us/step - loss: 0.0030 - acc: 0.9830\n",
      "Epoch 41/100\n",
      "33600/33600 [==============================] - 7s 205us/step - loss: 0.0028 - acc: 0.9839\n",
      "Epoch 42/100\n",
      "33600/33600 [==============================] - 7s 207us/step - loss: 0.0029 - acc: 0.9836\n",
      "Epoch 43/100\n",
      "33600/33600 [==============================] - 7s 208us/step - loss: 0.0029 - acc: 0.9833\n",
      "Epoch 44/100\n",
      "33600/33600 [==============================] - 7s 198us/step - loss: 0.0029 - acc: 0.9838\n",
      "Epoch 45/100\n",
      "33600/33600 [==============================] - 7s 195us/step - loss: 0.0028 - acc: 0.9842\n",
      "Epoch 46/100\n",
      "33600/33600 [==============================] - 7s 198us/step - loss: 0.0028 - acc: 0.9838\n",
      "Epoch 47/100\n",
      "33600/33600 [==============================] - 7s 197us/step - loss: 0.0027 - acc: 0.9846\n",
      "Epoch 48/100\n",
      "33600/33600 [==============================] - 7s 195us/step - loss: 0.0029 - acc: 0.9836\n",
      "Epoch 49/100\n",
      "33600/33600 [==============================] - 6s 190us/step - loss: 0.0027 - acc: 0.9846\n",
      "Epoch 50/100\n",
      "33600/33600 [==============================] - 6s 184us/step - loss: 0.0027 - acc: 0.9847\n",
      "Epoch 51/100\n",
      "33600/33600 [==============================] - 6s 177us/step - loss: 0.0028 - acc: 0.9838\n",
      "Epoch 52/100\n",
      "33600/33600 [==============================] - 6s 176us/step - loss: 0.0027 - acc: 0.9851\n",
      "Epoch 53/100\n",
      "33600/33600 [==============================] - 5s 161us/step - loss: 0.0028 - acc: 0.9838\n",
      "Epoch 54/100\n",
      "33600/33600 [==============================] - 4s 133us/step - loss: 0.0026 - acc: 0.9854\n",
      "Epoch 55/100\n",
      "33600/33600 [==============================] - 4s 111us/step - loss: 0.0027 - acc: 0.9843\n",
      "Epoch 56/100\n",
      "33600/33600 [==============================] - 4s 120us/step - loss: 0.0026 - acc: 0.9852\n",
      "Epoch 57/100\n",
      "33600/33600 [==============================] - 4s 124us/step - loss: 0.0026 - acc: 0.9857\n",
      "Epoch 58/100\n",
      "33600/33600 [==============================] - 4s 114us/step - loss: 0.0026 - acc: 0.9852\n",
      "Epoch 59/100\n",
      "33600/33600 [==============================] - 4s 113us/step - loss: 0.0027 - acc: 0.9851\n",
      "Epoch 60/100\n",
      "33600/33600 [==============================] - 3s 104us/step - loss: 0.0026 - acc: 0.9857\n",
      "Epoch 61/100\n",
      "33600/33600 [==============================] - 4s 104us/step - loss: 0.0027 - acc: 0.9847\n",
      "Epoch 62/100\n",
      "33600/33600 [==============================] - 3s 102us/step - loss: 0.0026 - acc: 0.9855\n",
      "Epoch 63/100\n",
      "33600/33600 [==============================] - 4s 105us/step - loss: 0.0025 - acc: 0.9858\n",
      "Epoch 64/100\n",
      "33600/33600 [==============================] - 3s 93us/step - loss: 0.0026 - acc: 0.9857\n",
      "Epoch 65/100\n",
      "33600/33600 [==============================] - 3s 95us/step - loss: 0.0025 - acc: 0.9858\n",
      "Epoch 66/100\n",
      "33600/33600 [==============================] - 4s 131us/step - loss: 0.0025 - acc: 0.9862\n",
      "Epoch 67/100\n",
      "33600/33600 [==============================] - 5s 136us/step - loss: 0.0025 - acc: 0.9859\n",
      "Epoch 68/100\n",
      "33600/33600 [==============================] - 5s 136us/step - loss: 0.0027 - acc: 0.9850\n",
      "Epoch 69/100\n",
      "33600/33600 [==============================] - 5s 137us/step - loss: 0.0027 - acc: 0.9845\n",
      "Epoch 70/100\n",
      "33600/33600 [==============================] - 5s 137us/step - loss: 0.0025 - acc: 0.9859\n",
      "Epoch 71/100\n",
      "33600/33600 [==============================] - 5s 137us/step - loss: 0.0025 - acc: 0.9861\n",
      "Epoch 72/100\n",
      "33600/33600 [==============================] - 5s 137us/step - loss: 0.0026 - acc: 0.9853\n",
      "Epoch 73/100\n",
      "33600/33600 [==============================] - 5s 137us/step - loss: 0.0025 - acc: 0.9859\n",
      "Epoch 74/100\n",
      "33600/33600 [==============================] - 5s 137us/step - loss: 0.0025 - acc: 0.9856\n",
      "Epoch 75/100\n",
      "33600/33600 [==============================] - 5s 136us/step - loss: 0.0025 - acc: 0.9860\n",
      "Epoch 76/100\n",
      "33600/33600 [==============================] - 5s 137us/step - loss: 0.0025 - acc: 0.9860\n",
      "Epoch 77/100\n",
      "33600/33600 [==============================] - 5s 136us/step - loss: 0.0024 - acc: 0.9868\n",
      "Epoch 78/100\n",
      "33600/33600 [==============================] - 4s 132us/step - loss: 0.0024 - acc: 0.9865\n",
      "Epoch 79/100\n",
      "33600/33600 [==============================] - 5s 139us/step - loss: 0.0026 - acc: 0.9854\n",
      "Epoch 80/100\n"
     ]
    },
    {
     "name": "stdout",
     "output_type": "stream",
     "text": [
      "33600/33600 [==============================] - 5s 136us/step - loss: 0.0025 - acc: 0.9861\n",
      "Epoch 81/100\n",
      "33600/33600 [==============================] - 5s 135us/step - loss: 0.0025 - acc: 0.9860\n",
      "Epoch 82/100\n",
      "33600/33600 [==============================] - 5s 136us/step - loss: 0.0025 - acc: 0.9860\n",
      "Epoch 83/100\n",
      "33600/33600 [==============================] - 4s 132us/step - loss: 0.0024 - acc: 0.9863\n",
      "Epoch 84/100\n",
      "33600/33600 [==============================] - 5s 136us/step - loss: 0.0024 - acc: 0.9868\n",
      "Epoch 85/100\n",
      "33600/33600 [==============================] - 5s 137us/step - loss: 0.0024 - acc: 0.9864\n",
      "Epoch 86/100\n",
      "33600/33600 [==============================] - 5s 136us/step - loss: 0.0024 - acc: 0.9863\n",
      "Epoch 87/100\n",
      "33600/33600 [==============================] - 5s 136us/step - loss: 0.0024 - acc: 0.9869\n",
      "Epoch 88/100\n",
      "33600/33600 [==============================] - 5s 136us/step - loss: 0.0025 - acc: 0.9859\n",
      "Epoch 89/100\n",
      "33600/33600 [==============================] - 5s 136us/step - loss: 0.0024 - acc: 0.9869\n",
      "Epoch 90/100\n",
      "33600/33600 [==============================] - 5s 136us/step - loss: 0.0024 - acc: 0.9868\n",
      "Epoch 91/100\n",
      "33600/33600 [==============================] - 5s 136us/step - loss: 0.0025 - acc: 0.9861\n",
      "Epoch 92/100\n",
      "33600/33600 [==============================] - 5s 136us/step - loss: 0.0024 - acc: 0.9862\n",
      "Epoch 93/100\n",
      "33600/33600 [==============================] - 5s 136us/step - loss: 0.0023 - acc: 0.9871\n",
      "Epoch 94/100\n",
      "33600/33600 [==============================] - 5s 136us/step - loss: 0.0024 - acc: 0.9864\n",
      "Epoch 95/100\n",
      "33600/33600 [==============================] - 5s 136us/step - loss: 0.0025 - acc: 0.9858\n",
      "Epoch 96/100\n",
      "33600/33600 [==============================] - 5s 136us/step - loss: 0.0024 - acc: 0.9866\n",
      "Epoch 97/100\n",
      "33600/33600 [==============================] - 5s 136us/step - loss: 0.0024 - acc: 0.9865\n",
      "Epoch 98/100\n",
      "33600/33600 [==============================] - 5s 136us/step - loss: 0.0024 - acc: 0.9867\n",
      "Epoch 99/100\n",
      "33600/33600 [==============================] - 5s 136us/step - loss: 0.0025 - acc: 0.9859\n",
      "Epoch 100/100\n",
      "33600/33600 [==============================] - 5s 136us/step - loss: 0.0024 - acc: 0.9869\n"
     ]
    }
   ],
   "source": [
    "history = model.fit(x_train, y_train, batch_size = 32 , epochs = 100)"
   ]
  },
  {
   "cell_type": "code",
   "execution_count": 30,
   "metadata": {},
   "outputs": [
    {
     "data": {
      "text/plain": [
       "[<matplotlib.lines.Line2D at 0x7f3be905f588>]"
      ]
     },
     "execution_count": 30,
     "metadata": {},
     "output_type": "execute_result"
    },
    {
     "data": {
      "image/png": "[encoded data removed]",
      "text/plain": [
       "<Figure size 432x288 with 1 Axes>"
      ]
     },
     "metadata": {
      "needs_background": "light"
     },
     "output_type": "display_data"
    }
   ],
   "source": [
    "from matplotlib import pyplot as plt\n",
    "plt.plot(history.history['loss'])"
   ]
  },
  {
   "cell_type": "code",
   "execution_count": null,
   "metadata": {},
   "outputs": [],
   "source": []
  }
 ],
 "metadata": {
  "kernelspec": {
   "display_name": "Python 3",
   "language": "python3",
   "name": "python3"
  },
  "language_info": {
   "codemirror_mode": {
    "name": "ipython",
    "version": 3
   },
   "file_extension": ".py",
   "mimetype": "text/x-python",
   "name": "python",
   "nbconvert_exporter": "python",
   "pygments_lexer": "ipython3",
   "version": "3.6.8"
  }
 },
 "nbformat": 4,
 "nbformat_minor": 2
}
